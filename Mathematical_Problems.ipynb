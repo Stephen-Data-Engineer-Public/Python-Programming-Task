{
  "cells": [
    {
      "cell_type": "markdown",
      "metadata": {
        "id": "KJ3EQl-MDr0_"
      },
      "source": [
        "# Mathematical Problems"
      ]
    },
    {
      "cell_type": "markdown",
      "metadata": {
        "id": "XVBW3Aq3Dr1B"
      },
      "source": [
        "## Extraction of digits\n",
        "\n",
        "To extract the digits of a number, employ modulo and division iteratively until the remaining value becomes zero. By repeatedly dividing a positive number by 10 and capturing the remainder, we can effectively retrieve the digits of the original number in reverse order."
      ]
    },
    {
      "cell_type": "code",
      "execution_count": null,
      "metadata": {
        "id": "PENBRqiLDr1C",
        "outputId": "f89e73f4-e154-434e-cc3c-9f62a62e1020"
      },
      "outputs": [
        {
          "name": "stdout",
          "output_type": "stream",
          "text": [
            "6 7 8 4 3 2 1 \n"
          ]
        }
      ],
      "source": [
        "def extract_numbers(numbers):\n",
        "    remaining_numbers = numbers\n",
        "    while remaining_numbers > 0:\n",
        "        digit = remaining_numbers % 10\n",
        "        remaining_numbers = remaining_numbers // 10\n",
        "        print(digit, end=' ')\n",
        "    print()\n",
        "\n",
        "extract_numbers(1234876)"
      ]
    },
    {
      "cell_type": "markdown",
      "source": [
        "## Determine number of digits\n",
        "Instead of extracting individual digits, you can also use a repeated division to determine the number of digits in a decimal number by simply dividing by 10 until there is no remainder left:"
      ],
      "metadata": {
        "id": "vVhQgvW_DxTM"
      }
    },
    {
      "cell_type": "code",
      "source": [
        "def len_number(numbers):\n",
        "  count = 0\n",
        "  remaining_value = numbers\n",
        "  while remaining_value > 0:\n",
        "    remaining_value = remaining_value // 10\n",
        "    count += 1\n",
        "  return count\n",
        "\n",
        "len_number(123456)"
      ],
      "metadata": {
        "id": "YlMIXk3VEsF7",
        "outputId": "829ac4de-0405-491f-d329-d65af17fa503",
        "colab": {
          "base_uri": "https://localhost:8080/"
        }
      },
      "execution_count": null,
      "outputs": [
        {
          "output_type": "execute_result",
          "data": {
            "text/plain": [
              "6"
            ]
          },
          "metadata": {},
          "execution_count": 4
        }
      ]
    },
    {
      "cell_type": "markdown",
      "source": [
        "## Determine the Real divisors of a number\n",
        "The algorithm is quite simple. Initially, the result contains the number 1, as this is always a valid divider. Then you go through all numbers starting by 2 up to half of the value (all higher values cannot be integer divisors if 2 is already a divisor) and check if they divide the given number without a remainder. If this is the case, then this number is a divisor and is included in a result list. You implement the whole thing with any of this code as follows:"
      ],
      "metadata": {
        "id": "A00fuDFdHNsE"
      }
    },
    {
      "cell_type": "code",
      "source": [
        "def real_divisors(number):\n",
        "  divisors = [1]\n",
        "  for i in range(2, number // 2 + 1):\n",
        "    if number % i == 0:\n",
        "      divisors.append(i)\n",
        "  return divisors\n",
        "\n",
        "def real_divisors(value):\n",
        "    return [i for i in range(1, value // 2 + 1) if value % i == 0]\n",
        "\n",
        "real_divisors(10)"
      ],
      "metadata": {
        "id": "RlNnqufWHgfW",
        "outputId": "92ec79c1-ca3d-454b-f71f-974868f2ea82",
        "colab": {
          "base_uri": "https://localhost:8080/"
        }
      },
      "execution_count": null,
      "outputs": [
        {
          "output_type": "execute_result",
          "data": {
            "text/plain": [
              "[1, 2, 5]"
            ]
          },
          "metadata": {},
          "execution_count": 10
        }
      ]
    },
    {
      "cell_type": "markdown",
      "source": [
        "## Prime Numbers\n",
        "Brute force algorithm for prime numbers Whether a number is a prime number or not can be determined as follows. You look for the number to be checked starting from 2 up to at most half of the number, whether the current number is a divisor of the original number.2 In that case, it’s not a prime. Otherwise, it needs to be checked further. In Python, this can be written as follows:"
      ],
      "metadata": {
        "id": "RqQdQAiqIypz"
      }
    },
    {
      "cell_type": "code",
      "source": [
        "def is_prime(value):\n",
        "  remaining_value = value\n",
        "  for i in range(2, remaining_value // 2 + 1):\n",
        "    if remaining_value % i == 0:\n",
        "      return False\n",
        "  return True\n",
        "\n",
        "def check_for_prime(number):\n",
        "  primes = [1]\n",
        "  for i in range(2, number + 1):\n",
        "    if is_prime(i):\n",
        "      primes.append(i)\n",
        "  print(primes)\n",
        "\n",
        "#Using list Comprehension\n",
        "def check_for_prime(number):\n",
        "  print([i for i in range(1, number + 1) if is_prime(i)])\n",
        "\n",
        "check_for_prime(100)"
      ],
      "metadata": {
        "colab": {
          "base_uri": "https://localhost:8080/"
        },
        "id": "SNfVfUwVdZiR",
        "outputId": "082ecf68-2d90-44b9-be48-cc8702a5e48f"
      },
      "execution_count": 6,
      "outputs": [
        {
          "output_type": "stream",
          "name": "stdout",
          "text": [
            "[1, 2, 3, 5, 7, 11, 13, 17, 19, 23, 29, 31, 37, 41, 43, 47, 53, 59, 61, 67, 71, 73, 79, 83, 89, 97]\n"
          ]
        }
      ]
    },
    {
      "cell_type": "markdown",
      "source": [
        "## Odd Numbers\n",
        "checks whether an odd number is prime or not. It starts by handling special cases (0, 1, and 2), and then iterates through odd numbers up to the square root of the given number to check for divisors. If any divisor is found, it returns False, indicating that the number is not prime. Otherwise, it returns True."
      ],
      "metadata": {
        "id": "kHQokQePhi0M"
      }
    },
    {
      "cell_type": "code",
      "source": [
        "def is_odd(number):\n",
        "  if number % 2 == 0:\n",
        "    return False\n",
        "  return True\n",
        "\n",
        "def check_for_odd(number):\n",
        "  odd = []\n",
        "  for i in range(1, number + 1):\n",
        "    if is_odd(i):\n",
        "      odd.append(i)\n",
        "  print(odd)\n",
        "\n",
        "def check_for_odd(number):\n",
        "  print([i for i in range(1, number + 1) if is_odd(i)])\n",
        "\n",
        "check_for_odd(100)\n",
        ""
      ],
      "metadata": {
        "colab": {
          "base_uri": "https://localhost:8080/"
        },
        "id": "zyR3qGTzhlu4",
        "outputId": "05d7e9a9-c3f1-4768-ed76-7be2f960d646"
      },
      "execution_count": 9,
      "outputs": [
        {
          "output_type": "stream",
          "name": "stdout",
          "text": [
            "[1, 3, 5, 7, 9, 11, 13, 15, 17, 19, 21, 23, 25, 27, 29, 31, 33, 35, 37, 39, 41, 43, 45, 47, 49, 51, 53, 55, 57, 59, 61, 63, 65, 67, 69, 71, 73, 75, 77, 79, 81, 83, 85, 87, 89, 91, 93, 95, 97, 99]\n"
          ]
        }
      ]
    }
  ],
  "metadata": {
    "kernelspec": {
      "display_name": "Python 3",
      "language": "python",
      "name": "python3"
    },
    "language_info": {
      "codemirror_mode": {
        "name": "ipython",
        "version": 3
      },
      "file_extension": ".py",
      "mimetype": "text/x-python",
      "name": "python",
      "nbconvert_exporter": "python",
      "pygments_lexer": "ipython3",
      "version": "3.11.9"
    },
    "colab": {
      "provenance": []
    }
  },
  "nbformat": 4,
  "nbformat_minor": 0
}