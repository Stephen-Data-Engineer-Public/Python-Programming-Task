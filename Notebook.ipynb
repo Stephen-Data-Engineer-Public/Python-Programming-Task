{
  "cells": [
    {
      "cell_type": "markdown",
      "metadata": {
        "id": "KJ3EQl-MDr0_"
      },
      "source": [
        "# Mathematical Problems"
      ]
    },
    {
      "cell_type": "markdown",
      "metadata": {
        "id": "XVBW3Aq3Dr1B"
      },
      "source": [
        "## Extraction of digits\n",
        "\n",
        "To extract the digits of a number, employ modulo and division iteratively until the remaining value becomes zero. By repeatedly dividing a positive number by 10 and capturing the remainder, we can effectively retrieve the digits of the original number in reverse order."
      ]
    },
    {
      "cell_type": "code",
      "execution_count": null,
      "metadata": {
        "id": "PENBRqiLDr1C",
        "outputId": "f89e73f4-e154-434e-cc3c-9f62a62e1020"
      },
      "outputs": [
        {
          "name": "stdout",
          "output_type": "stream",
          "text": [
            "6 7 8 4 3 2 1 \n"
          ]
        }
      ],
      "source": [
        "def extract_numbers(numbers):\n",
        "    remaining_numbers = numbers\n",
        "    while remaining_numbers > 0:\n",
        "        digit = remaining_numbers % 10\n",
        "        remaining_numbers = remaining_numbers // 10\n",
        "        print(digit, end=' ')\n",
        "    print()\n",
        "\n",
        "extract_numbers(1234876)"
      ]
    },
    {
      "cell_type": "markdown",
      "source": [
        "## Determine number of digits\n",
        "Instead of extracting individual digits, you can also use a repeated division to determine the number of digits in a decimal number by simply dividing by 10 until there is no remainder left:"
      ],
      "metadata": {
        "id": "vVhQgvW_DxTM"
      }
    },
    {
      "cell_type": "code",
      "source": [
        "def len_number(numbers):\n",
        "  count = 0\n",
        "  remaining_value = numbers\n",
        "  while remaining_value > 0:\n",
        "    remaining_value = remaining_value // 10\n",
        "    count += 1\n",
        "  return count\n",
        "\n",
        "len_number(123456)"
      ],
      "metadata": {
        "id": "YlMIXk3VEsF7",
        "outputId": "829ac4de-0405-491f-d329-d65af17fa503",
        "colab": {
          "base_uri": "https://localhost:8080/"
        }
      },
      "execution_count": 4,
      "outputs": [
        {
          "output_type": "execute_result",
          "data": {
            "text/plain": [
              "6"
            ]
          },
          "metadata": {},
          "execution_count": 4
        }
      ]
    },
    {
      "cell_type": "markdown",
      "source": [
        "## Determine the Real divisors of a number\n",
        "The algorithm is quite simple. Initially, the result contains the number 1, as this is always a valid divider. Then you go through all numbers starting by 2 up to half of the value (all higher values cannot be integer divisors if 2 is already a divisor) and check if they divide the given number without a remainder. If this is the case, then this number is a divisor and is included in a result list. You implement the whole thing with any of this code as follows:"
      ],
      "metadata": {
        "id": "A00fuDFdHNsE"
      }
    },
    {
      "cell_type": "code",
      "source": [
        "def real_divisors(number):\n",
        "  divisors = [1]\n",
        "  for i in range(2, number // 2 + 1):\n",
        "    if number % i == 0:\n",
        "      divisors.append(i)\n",
        "  return divisors\n",
        "\n",
        "def real_divisors(value):\n",
        "    return [i for i in range(1, value // 2 + 1) if value % i == 0]\n",
        "\n",
        "real_divisors(10)"
      ],
      "metadata": {
        "id": "RlNnqufWHgfW",
        "outputId": "92ec79c1-ca3d-454b-f71f-974868f2ea82",
        "colab": {
          "base_uri": "https://localhost:8080/"
        }
      },
      "execution_count": 10,
      "outputs": [
        {
          "output_type": "execute_result",
          "data": {
            "text/plain": [
              "[1, 2, 5]"
            ]
          },
          "metadata": {},
          "execution_count": 10
        }
      ]
    },
    {
      "cell_type": "markdown",
      "source": [],
      "metadata": {
        "id": "RqQdQAiqIypz"
      }
    }
  ],
  "metadata": {
    "kernelspec": {
      "display_name": "Python 3",
      "language": "python",
      "name": "python3"
    },
    "language_info": {
      "codemirror_mode": {
        "name": "ipython",
        "version": 3
      },
      "file_extension": ".py",
      "mimetype": "text/x-python",
      "name": "python",
      "nbconvert_exporter": "python",
      "pygments_lexer": "ipython3",
      "version": "3.11.9"
    },
    "colab": {
      "provenance": []
    }
  },
  "nbformat": 4,
  "nbformat_minor": 0
}