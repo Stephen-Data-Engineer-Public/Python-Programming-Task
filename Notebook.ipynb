{
 "cells": [
  {
   "cell_type": "markdown",
   "metadata": {},
   "source": [
    "# Mathematical Problems"
   ]
  },
  {
   "cell_type": "markdown",
   "metadata": {},
   "source": [
    "## Extraction of digits \n",
    "\n",
    "To extract the digits of a number, combine modulo and division as long as the remaining value is greater than 0.\n",
    "The reason being if we keep dividing a number that is greater than 0 by 10, and return the reminder we will atlast return the initial number in reverse"
   ]
  },
  {
   "cell_type": "code",
   "execution_count": 3,
   "metadata": {},
   "outputs": [
    {
     "name": "stdout",
     "output_type": "stream",
     "text": [
      "6 7 8 4 3 2 1 \n"
     ]
    }
   ],
   "source": [
    "def extract_numbers(numbers):\n",
    "    remaining_numbers = numbers\n",
    "    while remaining_numbers > 0:\n",
    "        digit = remaining_numbers % 10\n",
    "        remaining_numbers = remaining_numbers // 10\n",
    "        print(digit, end=' ')\n",
    "    print()\n",
    "\n",
    "extract_numbers(1234876)"
   ]
  }
 ],
 "metadata": {
  "kernelspec": {
   "display_name": "Python 3",
   "language": "python",
   "name": "python3"
  },
  "language_info": {
   "codemirror_mode": {
    "name": "ipython",
    "version": 3
   },
   "file_extension": ".py",
   "mimetype": "text/x-python",
   "name": "python",
   "nbconvert_exporter": "python",
   "pygments_lexer": "ipython3",
   "version": "3.11.9"
  }
 },
 "nbformat": 4,
 "nbformat_minor": 2
}
